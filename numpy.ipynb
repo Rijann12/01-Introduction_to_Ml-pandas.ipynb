{
  "nbformat": 4,
  "nbformat_minor": 0,
  "metadata": {
    "colab": {
      "provenance": [],
      "toc_visible": true,
      "authorship_tag": "ABX9TyP6PfdtIpjyT3DKy3kLJUWy",
      "include_colab_link": true
    },
    "kernelspec": {
      "name": "python3",
      "display_name": "Python 3"
    },
    "language_info": {
      "name": "python"
    }
  },
  "cells": [
    {
      "cell_type": "markdown",
      "metadata": {
        "id": "view-in-github",
        "colab_type": "text"
      },
      "source": [
        "<a href=\"https://colab.research.google.com/github/Rijann12/M_from_scrath/blob/main/numpy.ipynb\" target=\"_parent\"><img src=\"https://colab.research.google.com/assets/colab-badge.svg\" alt=\"Open In Colab\"/></a>"
      ]
    },
    {
      "cell_type": "markdown",
      "source": [
        "## introduction to numpy\n",
        "-  what wll we cover?\n",
        "- creating arrays\n",
        "- multidimensional array\n",
        "- element wise operations\n",
        "- comparison operations\n",
        "- logical operations\n",
        "\n"
      ],
      "metadata": {
        "id": "elzo028nhY0W"
      }
    },
    {
      "cell_type": "markdown",
      "source": [],
      "metadata": {
        "id": "_QFQ7iMuh_RB"
      }
    },
    {
      "cell_type": "markdown",
      "source": [
        "### single dimensional array"
      ],
      "metadata": {
        "id": "qliBEhcgnwMU"
      }
    },
    {
      "cell_type": "code",
      "execution_count": 2,
      "metadata": {
        "id": "RWsXL7yqhLnt"
      },
      "outputs": [],
      "source": [
        "import numpy as np"
      ]
    },
    {
      "cell_type": "markdown",
      "source": [
        "#### creating arrays"
      ],
      "metadata": {
        "id": "T_hFbPNri8H0"
      }
    },
    {
      "cell_type": "code",
      "source": [
        "var = np.zeros(5)\n",
        "print(type(var))\n"
      ],
      "metadata": {
        "colab": {
          "base_uri": "https://localhost:8080/"
        },
        "id": "ASFEQ_Qfi3at",
        "outputId": "490bc8c6-1cdb-4fe8-816b-0460a3f62983"
      },
      "execution_count": 5,
      "outputs": [
        {
          "output_type": "stream",
          "name": "stdout",
          "text": [
            "<class 'numpy.ndarray'>\n"
          ]
        }
      ]
    },
    {
      "cell_type": "code",
      "source": [
        "np.zeros(10)"
      ],
      "metadata": {
        "colab": {
          "base_uri": "https://localhost:8080/"
        },
        "id": "hOsxhWSVjPlp",
        "outputId": "91420260-0291-4d90-e94f-c1253bbc07b7"
      },
      "execution_count": 8,
      "outputs": [
        {
          "output_type": "execute_result",
          "data": {
            "text/plain": [
              "array([0., 0., 0., 0., 0., 0., 0., 0., 0., 0.])"
            ]
          },
          "metadata": {},
          "execution_count": 8
        }
      ]
    },
    {
      "cell_type": "markdown",
      "source": [],
      "metadata": {
        "id": "zNpYWBexhXr2"
      }
    },
    {
      "cell_type": "code",
      "source": [
        "np.ones(10)\n"
      ],
      "metadata": {
        "colab": {
          "base_uri": "https://localhost:8080/"
        },
        "id": "awX1DXe_jWpy",
        "outputId": "0a6b40e9-c20d-487c-cb92-dd5cf312dcd0"
      },
      "execution_count": 9,
      "outputs": [
        {
          "output_type": "execute_result",
          "data": {
            "text/plain": [
              "array([1., 1., 1., 1., 1., 1., 1., 1., 1., 1.])"
            ]
          },
          "metadata": {},
          "execution_count": 9
        }
      ]
    },
    {
      "cell_type": "code",
      "source": [
        "np.full(10,3)"
      ],
      "metadata": {
        "colab": {
          "base_uri": "https://localhost:8080/"
        },
        "id": "IFEDUyunjb4S",
        "outputId": "82afde38-6438-4adb-c528-62ebd2126f3b"
      },
      "execution_count": 11,
      "outputs": [
        {
          "output_type": "execute_result",
          "data": {
            "text/plain": [
              "array([3, 3, 3, 3, 3, 3, 3, 3, 3, 3])"
            ]
          },
          "metadata": {},
          "execution_count": 11
        }
      ]
    },
    {
      "cell_type": "code",
      "source": [
        "np.array([1, 2, 3, 4])"
      ],
      "metadata": {
        "colab": {
          "base_uri": "https://localhost:8080/"
        },
        "id": "6_ic6fVfkgyZ",
        "outputId": "e854a5f8-1013-4322-b8da-a7be4da1d6df"
      },
      "execution_count": 13,
      "outputs": [
        {
          "output_type": "execute_result",
          "data": {
            "text/plain": [
              "array([1, 2, 3, 4])"
            ]
          },
          "metadata": {},
          "execution_count": 13
        }
      ]
    },
    {
      "cell_type": "code",
      "source": [
        "a=np.array([1, 2, 3, 4])\n"
      ],
      "metadata": {
        "id": "UyBqDS-0lORT"
      },
      "execution_count": 17,
      "outputs": []
    },
    {
      "cell_type": "code",
      "source": [
        "a[2]=4"
      ],
      "metadata": {
        "id": "vBl5d1ptl61P"
      },
      "execution_count": 18,
      "outputs": []
    },
    {
      "cell_type": "code",
      "source": [
        "print(a)"
      ],
      "metadata": {
        "colab": {
          "base_uri": "https://localhost:8080/"
        },
        "id": "MglhWNykl-Yn",
        "outputId": "178fdbfd-d07e-4036-dee2-e59429926ba0"
      },
      "execution_count": 19,
      "outputs": [
        {
          "output_type": "stream",
          "name": "stdout",
          "text": [
            "[1 2 4 4]\n"
          ]
        }
      ]
    },
    {
      "cell_type": "code",
      "source": [
        "np.arange(3, 10)"
      ],
      "metadata": {
        "colab": {
          "base_uri": "https://localhost:8080/"
        },
        "id": "zOnyKocVmABo",
        "outputId": "58a94f50-5e43-471d-aff1-5ac6714d43d8"
      },
      "execution_count": 20,
      "outputs": [
        {
          "output_type": "execute_result",
          "data": {
            "text/plain": [
              "array([3, 4, 5, 6, 7, 8, 9])"
            ]
          },
          "metadata": {},
          "execution_count": 20
        }
      ]
    },
    {
      "cell_type": "markdown",
      "source": [
        "#### create array with evenly spaced numbers within a specific range\n"
      ],
      "metadata": {
        "id": "aZJPTCpHmxzX"
      }
    },
    {
      "cell_type": "code",
      "source": [
        "np.linspace(0, 100, 10)"
      ],
      "metadata": {
        "colab": {
          "base_uri": "https://localhost:8080/"
        },
        "id": "-hYzxj1bmjzR",
        "outputId": "2a3bde82-835d-4232-b8c6-849f2523ebc8"
      },
      "execution_count": 22,
      "outputs": [
        {
          "output_type": "execute_result",
          "data": {
            "text/plain": [
              "array([  0.        ,  11.11111111,  22.22222222,  33.33333333,\n",
              "        44.44444444,  55.55555556,  66.66666667,  77.77777778,\n",
              "        88.88888889, 100.        ])"
            ]
          },
          "metadata": {},
          "execution_count": 22
        }
      ]
    },
    {
      "cell_type": "markdown",
      "source": [
        "### multidimensional array"
      ],
      "metadata": {
        "id": "mLws4UxpoDcO"
      }
    },
    {
      "cell_type": "code",
      "source": [
        "np.zeros((5,2))"
      ],
      "metadata": {
        "colab": {
          "base_uri": "https://localhost:8080/"
        },
        "id": "R4PFAR77nC-I",
        "outputId": "736a1060-c078-4818-eb17-b200b02adf2a"
      },
      "execution_count": 23,
      "outputs": [
        {
          "output_type": "execute_result",
          "data": {
            "text/plain": [
              "array([[0., 0.],\n",
              "       [0., 0.],\n",
              "       [0., 0.],\n",
              "       [0., 0.],\n",
              "       [0., 0.]])"
            ]
          },
          "metadata": {},
          "execution_count": 23
        }
      ]
    },
    {
      "cell_type": "code",
      "source": [
        "np.ones((5, 2))"
      ],
      "metadata": {
        "colab": {
          "base_uri": "https://localhost:8080/"
        },
        "id": "ipQi0mNroc8r",
        "outputId": "5d5ca010-64f2-4b05-c1eb-1d0fcf072f20"
      },
      "execution_count": 24,
      "outputs": [
        {
          "output_type": "execute_result",
          "data": {
            "text/plain": [
              "array([[1., 1.],\n",
              "       [1., 1.],\n",
              "       [1., 1.],\n",
              "       [1., 1.],\n",
              "       [1., 1.]])"
            ]
          },
          "metadata": {},
          "execution_count": 24
        }
      ]
    },
    {
      "cell_type": "code",
      "source": [
        "# create an MD Array of size (5,2)\n",
        "# Generate a random array of size (3,5) with elements of yours choice\n",
        "# update elements of an array with index\n",
        "\n",
        "np.ones((5,2))\n",
        "np.array(([1,2,3,4, 5,], [1, 2, 1, 1, 1], [1, 1, 1, 1, 1]))\n",
        "a=np.array(([1,2,3,4, 5,], [1, 2, 1, 1, 1], [1, 1, 1, 1, 1]))\n",
        "a\n",
        "a[2]=([4, 4, 4, 4, 4])\n",
        "print(a)\n",
        "a[1, 3]= 100\n",
        "a"
      ],
      "metadata": {
        "colab": {
          "base_uri": "https://localhost:8080/"
        },
        "id": "Te6mBrhZog3A",
        "outputId": "309ac827-7cf4-418f-851a-942eb35a75a3"
      },
      "execution_count": 37,
      "outputs": [
        {
          "output_type": "stream",
          "name": "stdout",
          "text": [
            "[[1 2 3 4 5]\n",
            " [1 2 1 1 1]\n",
            " [4 4 4 4 4]]\n"
          ]
        },
        {
          "output_type": "execute_result",
          "data": {
            "text/plain": [
              "array([[  1,   2,   3,   4,   5],\n",
              "       [  1,   2,   1, 100,   1],\n",
              "       [  4,   4,   4,   4,   4]])"
            ]
          },
          "metadata": {},
          "execution_count": 37
        }
      ]
    },
    {
      "cell_type": "code",
      "source": [
        "#row change gareko\n",
        "a[2]=[1, 1, 1, 1, 1]\n",
        "a"
      ],
      "metadata": {
        "colab": {
          "base_uri": "https://localhost:8080/"
        },
        "id": "9-ywGptooyn6",
        "outputId": "9501304b-d8e5-43cf-e721-85cee7a6f4d5"
      },
      "execution_count": 40,
      "outputs": [
        {
          "output_type": "execute_result",
          "data": {
            "text/plain": [
              "array([[  1,   2,   3,   4,   5],\n",
              "       [  1,   2,   1, 100,   1],\n",
              "       [  1,   1,   1,   1,   1]])"
            ]
          },
          "metadata": {},
          "execution_count": 40
        }
      ]
    },
    {
      "cell_type": "code",
      "source": [
        "#column change gareko (\":\":column ani kun column change garne tei halne jastai 2)\n",
        "a[:, 2] = [3, 3, 3]\n",
        "a"
      ],
      "metadata": {
        "colab": {
          "base_uri": "https://localhost:8080/"
        },
        "id": "wxuKdg9mrEW1",
        "outputId": "476334c8-42a1-48c5-96ab-eb45eb360751"
      },
      "execution_count": 42,
      "outputs": [
        {
          "output_type": "execute_result",
          "data": {
            "text/plain": [
              "array([[  1,   2,   3,   4,   5],\n",
              "       [  1,   2,   3, 100,   1],\n",
              "       [  1,   1,   3,   1,   1]])"
            ]
          },
          "metadata": {},
          "execution_count": 42
        }
      ]
    },
    {
      "cell_type": "code",
      "source": [],
      "metadata": {
        "id": "1kQI_b1VrMpf"
      },
      "execution_count": null,
      "outputs": []
    }
  ]
}